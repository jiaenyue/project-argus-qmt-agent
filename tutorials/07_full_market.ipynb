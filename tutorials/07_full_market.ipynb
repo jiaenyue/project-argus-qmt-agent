{
 "cells": [
  {
   "cell_type": "markdown",
   "id": "baef152d",
   "metadata": {},
   "source": [
    "# 完整行情数据API 使用教程"
   ]
  },
  {
   "cell_type": "markdown",
   "id": "44788e74",
   "metadata": {},
   "source": [
    "### 参数说明\n",
    "| 参数名 | 类型 | 是否必填 | 说明 | 示例值 |\n",
    "|--------|------|----------|------|--------|\n",
    "| symbol | str | 是 | 股票代码(格式:代码.交易所) | \"600519.SH\" |\n",
    "| fields | str | 否 | 请求字段(逗号分隔,默认全部) | \"open,high,low,close,volume\" |"
   ]
  },
  {
   "cell_type": "code",
   "execution_count": null,
   "id": "6c67bc02",
   "metadata": {
    "lines_to_next_cell": 1
   },
   "outputs": [],
   "source": [
    "# ## HTTP调用方式\n",
    "from xtquant import xtdata\n",
    "import threading\n",
    "import time"
   ]
  },
  {
   "cell_type": "markdown",
   "id": "80ab4a66",
   "metadata": {},
   "source": [
    "### xtdata库调用方式"
   ]
  },
  {
   "cell_type": "code",
   "execution_count": null,
   "id": "b6a43474",
   "metadata": {
    "lines_to_next_cell": 1
   },
   "outputs": [],
   "source": [
    "# 定义数据推送回调函数\n",
    "# 当订阅的全推行情数据有更新时，此函数会被调用\n",
    "def on_full_tick_data(datas):\n",
    "    \"\"\"\n",
    "    全推行情数据回调函数。\n",
    "    datas: 字典，格式为 { stock_code : data }，其中data是最新分笔数据。\n",
    "    \"\"\"\n",
    "    print(f\"收到全推行情数据更新，时间: {time.strftime('%Y-%m-%d %H:%M:%S', time.localtime(time.time()))}\")\n",
    "    for stock_code, data in datas.items():\n",
    "        print(f\"  合约代码: {stock_code}, 最新价: {data.get('lastPrice')}, 成交量: {data.get('volume')}\")"
   ]
  },
  {
   "cell_type": "code",
   "execution_count": null,
   "id": "c662c7a2",
   "metadata": {},
   "outputs": [],
   "source": [
    "# 1. 订阅全推行情数据\n",
    "# 使用 subscribe_whole_quote 订阅指定市场或合约的全推行情。\n",
    "# 这里订阅沪深两市的所有合约的全推数据。\n",
    "print(\"开始订阅沪深两市全推行情数据...\")\n",
    "# code_list 可以是市场代码列表，如 ['SH', 'SZ']，或合约代码列表，如 ['600519.SH', '000001.SZ']\n",
    "# 订阅成功会返回一个订阅号 (seq)，失败返回 -1\n",
    "subscribe_id = xtdata.subscribe_whole_quote(code_list=['SH', 'SZ'], callback=on_full_tick_data)"
   ]
  },
  {
   "cell_type": "code",
   "execution_count": null,
   "id": "7ce809a4",
   "metadata": {},
   "outputs": [],
   "source": [
    "if subscribe_id != -1:\n",
    "    print(f\"全推行情订阅成功，订阅号: {subscribe_id}\")\n",
    "    # 2. 获取全推数据\n",
    "    # 使用 get_full_tick 获取当前最新的全推数据快照。\n",
    "    # 注意：get_full_tick 返回的是当前时刻的快照数据，不会触发回调。\n",
    "    print(\"\\n获取当前全推数据快照...\")\n",
    "    # code_list 参数与 subscribe_whole_quote 相同\n",
    "    full_tick_data = xtdata.get_full_tick(code_list=['600519.SH', '000001.SZ'])\n",
    "    \n",
    "    if full_tick_data:\n",
    "        print(\"成功获取全推数据快照:\")\n",
    "        for stock_code, data in full_tick_data.items():\n",
    "            print(f\"  合约代码: {stock_code}, 最新价: {data.get('lastPrice')}, 成交量: {data.get('volume')}\")\n",
    "    else:\n",
    "        print(\"未能获取全推数据快照，请确保MiniQmt已连接且有数据。\")\n",
    "\n",
    "    # 3. 阻塞线程以持续接收行情回调\n",
    "    # xtdata.run() 会阻塞当前线程，使程序保持运行状态，以便持续接收订阅数据。\n",
    "    # 在实际应用中，可以根据需要设置运行时间或通过其他方式控制程序的生命周期。\n",
    "    print(\"\\n程序将持续运行10秒以接收实时行情推送...\")\n",
    "    xtdata.run() # 这会阻塞直到程序被中断或连接断开\n",
    "    time.sleep(10) # 模拟程序运行一段时间\n",
    "    \n",
    "    # 4. 反订阅行情数据\n",
    "    # 使用 unsubscribe_quote 取消订阅，释放资源。\n",
    "    print(f\"\\n反订阅全推行情数据，订阅号: {subscribe_id}...\")\n",
    "    xtdata.unsubscribe_quote(subscribe_id)\n",
    "    print(\"反订阅成功。\")\n",
    "else:\n",
    "    print(\"全推行情订阅失败，请检查xtdata连接和MiniQmt状态。\")"
   ]
  },
  {
   "cell_type": "markdown",
   "id": "4bd9857d",
   "metadata": {},
   "source": [
    "### 实际应用场景\n",
    "**实时市场监控**：\n",
    "订阅全推行情数据，实时监控整个市场的最新价格和成交量，用于高频交易策略或市场异动分析。\n",
    "\n",
    "```python\n",
    "import xtdata\n",
    "import time\n",
    "\n",
    "# 定义回调函数，处理接收到的全推数据\n",
    "def on_market_update(datas):\n",
    "    for stock_code, data in datas.items():\n",
    "        # 打印关键行情信息，例如最新价、成交量\n",
    "        print(f\"实时更新 - {stock_code}: 最新价={data.get('lastPrice')}, 成交量={data.get('volume')}\")\n",
    "\n",
    "# 订阅沪深两市的全推行情\n",
    "# 传入市场代码列表 ['SH', 'SZ'] 表示订阅整个沪深市场\n",
    "subscribe_id_monitor = xtdata.subscribe_whole_quote(code_list=['SH', 'SZ'], callback=on_market_update)\n",
    "\n",
    "if subscribe_id_monitor != -1:\n",
    "    print(f\"市场监控订阅成功，订阅号: {subscribe_id_monitor}\")\n",
    "    # 持续运行以接收实时数据，例如运行30秒\n",
    "    print(\"开始实时监控市场行情，持续30秒...\")\n",
    "    time.sleep(30)\n",
    "    # 取消订阅\n",
    "    xtdata.unsubscribe_quote(subscribe_id_monitor)\n",
    "    print(\"市场监控已停止。\")\n",
    "else:\n",
    "    print(\"市场监控订阅失败。\")\n",
    "```"
   ]
  },
  {
   "cell_type": "markdown",
   "id": "898d2771",
   "metadata": {},
   "source": [
    "### 错误处理\n",
    "| 错误码 | 含义 | 解决方案 |\n",
    "|--------|------|----------|\n",
    "| 400 | 参数缺失或格式错误 | 检查symbol/fields格式 |\n",
    "| 404 | 服务未找到 | 确认API服务是否正常运行 |\n",
    "| 500 | 服务器内部错误 | 检查服务日志排查问题 |\n",
    "| 1003 | 无效股票代码 | 使用正确的股票代码格式(代码.交易所) |\n",
    "| 1010 | 无效字段名 | 检查字段名是否在支持列表中 |"
   ]
  },
  {
   "cell_type": "markdown",
   "id": "cd2f0267",
   "metadata": {},
   "source": [
    "### 性能优化建议\n",
    "1. **按需请求**：只请求需要的字段减少响应大小\n",
    "2. **分页获取**：历史数据量过大时分页获取\n",
    "3. **本地缓存**：对历史数据进行本地存储避免重复请求\n",
    "4. **压缩传输：启用gzip压缩减少网络传输量\n",
    "5. **增量更新**：只获取最新变更数据减少传输量"
   ]
  },
  {
   "cell_type": "markdown",
   "id": "dd27f8b4",
   "metadata": {},
   "source": [
    "### FAQ常见问题\n",
    "**Q: 支持哪些字段？**  \n",
    "A: 支持open,high,low,close,volume,amount,turnover,pe,pb等常用字段\n",
    "\n",
    "**Q: 是否支持获取多个股票的完整数据？**  \n",
    "A: 当前API只支持单只股票查询，多股票需多次调用\n",
    "\n",
    "**Q: 数据更新频率是多少？**  \n",
    "A: 日线数据每日收盘后更新，分钟线数据实时更新"
   ]
  },
  {
   "cell_type": "markdown",
   "id": "175fad8c",
   "metadata": {},
   "source": [
    "## 注意事项\n",
    "- 确保服务运行在data-agent-service\n",
    "- 需要指定股票代码symbol和要获取的字段fields"
   ]
  }
 ],
 "metadata": {
  "kernelspec": {
   "display_name": "vnpy",
   "language": "python",
   "name": "python3"
  },
  "language_info": {
   "name": "python",
   "version": "3.11.11"
  }
 },
 "nbformat": 4,
 "nbformat_minor": 5
}
